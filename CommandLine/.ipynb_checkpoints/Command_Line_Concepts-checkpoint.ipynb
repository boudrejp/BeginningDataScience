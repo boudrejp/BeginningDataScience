{
 "cells": [
  {
   "cell_type": "markdown",
   "metadata": {},
   "source": [
    "# Using the Command Line\n",
    "\n",
    "When working in the realm of data science, you need to be comfortable with using your computer in ways that a typical user might not generally use. You might even use some virtual machines or other devices that have no user interface- the only way to use them will be through a command interface like Windows Powershell, Command Prompt, or Bash.\n",
    "\n",
    "In general, there are two types of commands you will need to know: __Windows__ commands which are used in the Windows Command Prompt and Powershell, and __Bash__ commands that are used in Mac and linux devices."
   ]
  },
  {
   "cell_type": "markdown",
   "metadata": {},
   "source": [
    "## Windows Commands\n",
    "\n",
    "Windows commands follow the same general framework as bash commands, but often will use a different name for them. Fundamentally, they have the same functionality. Since in the enterprise Windows machines are more common, I will start with Windows machines. If you are solely working on a Mac device, this won't apply to you."
   ]
  },
  {
   "cell_type": "markdown",
   "metadata": {},
   "source": [
    "Step 1: Open a window of Powershell or Cmd.exe"
   ]
  },
  {
   "cell_type": "markdown",
   "metadata": {
    "collapsed": true
   },
   "source": [
    "### Navigating directories + clear commands\n",
    "\n",
    "You will see the current active directory on the left, with a `>` character followed by a blinking cursor. \n",
    "\n",
    "To see what files and directories are in the current directory, use the command `ls`. This will display all relevant files and directories.\n",
    "\n",
    "![ls example](./resources/ls.jpg)\n",
    "\n",
    "To change the directory you are working in, use the `cd` command. Note that you can give a relative file path or an absolute one. For relative file paths, use `./` to reference the current directory. To go to a parent directory by a relative reference, use `../`. For absolute file paths, use the full file path name. See below for some examples of moving around directories.\n",
    "\n",
    "![cd example](./resources/cd.jpg)\n",
    "\n",
    "You may be in a directory and want to see the contents of the file. To do this, use the `cat` command to print out the contents of a file in the command prompt.\n",
    "\n",
    "![cat example](./resources/cat.jpg)\n",
    "\n",
    "At this point, you may have a lot of text on your screen. To clear your screen, use the `clear` command. Note that you will stay in your current directory, but will just have all the text output cleared off the screen.\n",
    "\n"
   ]
  },
  {
   "cell_type": "markdown",
   "metadata": {},
   "source": [
    "### More advanced commands\n",
    "\n",
    "If you're ever confused about what a command does, use the `man` command, followed by the command in question. For example, if I wanted the documentation on `cat`, I would use `man cat`.\n",
    "\n",
    "![man cat](./resources/man cat.jpg)"
   ]
  },
  {
   "cell_type": "markdown",
   "metadata": {},
   "source": [
    "If I had some string that I wanted to put into a text file, I would be able to do that via the `echo` command. `echo` will normally just print the text back at you in the command prompt. However, if you have a particular file you want the text to go to, you can use `echo \"some text to add\" > file_to_contain_text.txt`. Note that this will work even if you don't have a file called `file_to_contain_text.txt` already existing. \n",
    "\n",
    "If `file_to_contain_text.txt` already exists, using the `>` operator will overwrite all text in the file and you will end up with only the new text. If you want the new text added as an addition to the old text, use the `>>` operator.\n",
    "\n",
    "![echo ex 1](./resources/echo1.jpg)\n",
    "![echo ex 2](./resources/echo2.jpg)\n"
   ]
  },
  {
   "cell_type": "markdown",
   "metadata": {},
   "source": [
    "I also have the option of making an empty file first and then funneling text into it. To create an empty document, I would use the `New-Item` command in Powershell.*Note: this is the first example of a command that is different in Windows compared to bash. The corresponding bash command is `touch`.\n",
    "\n",
    "![new-item](./resources/new-item.jpg)\n",
    "Notice here that when I use `cat` that there is no output. That's because we created an empty file!\n",
    "![new-item2](./resources/new-item.jpg)\n",
    "\n",
    "If I want to copy a file, I can use the `cp` command. It takes one additional argument of where you want the file to go to when it is copied.\n",
    "\n",
    "![cp](./resources/cp.jpg)\n"
   ]
  },
  {
   "cell_type": "markdown",
   "metadata": {},
   "source": [
    "Now at this point, we've made a lot of files that I don't really want. Let's delete them using the `rm` command.\n",
    "\n",
    "![rm](./resources/rm.jpg)\n",
    "\n",
    "Be cafeful with using rm... you can accidentally delete very important operational files with this and ruin your whole PC!\n",
    "\n",
    "### Congrats!!!\n",
    "\n",
    "At this point, you probably know enough command line to be dangerous for most of the things you'll be doing. "
   ]
  },
  {
   "cell_type": "code",
   "execution_count": null,
   "metadata": {
    "collapsed": true
   },
   "outputs": [],
   "source": []
  }
 ],
 "metadata": {
  "kernelspec": {
   "display_name": "Python 3",
   "language": "python",
   "name": "python3"
  },
  "language_info": {
   "codemirror_mode": {
    "name": "ipython",
    "version": 3
   },
   "file_extension": ".py",
   "mimetype": "text/x-python",
   "name": "python",
   "nbconvert_exporter": "python",
   "pygments_lexer": "ipython3",
   "version": "3.6.3"
  }
 },
 "nbformat": 4,
 "nbformat_minor": 2
}
