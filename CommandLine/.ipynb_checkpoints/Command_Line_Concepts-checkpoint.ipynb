{
 "cells": [
  {
   "cell_type": "markdown",
   "metadata": {},
   "source": [
    "# Using the Command Line\n",
    "\n",
    "When working in the realm of data science, you need to be comfortable with using your computer in ways that a typical user might not generally use. You might even use some virtual machines or other devices that have no user interface- the only way to use them will be through a command interface like Windows Powershell, Command Prompt, or Bash.\n",
    "\n",
    "In general, there are two types of commands you will need to know: __Windows__ commands which are used in the Windows Command Prompt and Powershell, and __Bash__ commands that are used in Mac and linux devices."
   ]
  },
  {
   "cell_type": "markdown",
   "metadata": {},
   "source": [
    "## Windows Commands\n",
    "\n",
    "Windows commands follow the same general framework as bash commands, but often will use a different name for them. Fundamentally, they have the same functionality. Since in the enterprise Windows machines are more common, I will start with Windows machines. If you are solely working on a Mac device, this won't apply to you."
   ]
  },
  {
   "cell_type": "markdown",
   "metadata": {},
   "source": [
    "Step 1: Open a window of Powershell or Cmd.exe"
   ]
  },
  {
   "cell_type": "code",
   "execution_count": null,
   "metadata": {
    "collapsed": true
   },
   "outputs": [],
   "source": []
  }
 ],
 "metadata": {
  "kernelspec": {
   "display_name": "Python 3",
   "language": "python",
   "name": "python3"
  },
  "language_info": {
   "codemirror_mode": {
    "name": "ipython",
    "version": 3
   },
   "file_extension": ".py",
   "mimetype": "text/x-python",
   "name": "python",
   "nbconvert_exporter": "python",
   "pygments_lexer": "ipython3",
   "version": "3.6.3"
  }
 },
 "nbformat": 4,
 "nbformat_minor": 2
}
